{
 "cells": [
  {
   "cell_type": "markdown",
   "metadata": {},
   "source": [
    "</font>\n",
    "<font size=6  color=#003366> <div style=\"text-align: center\"> [LGBIO2050] - Medical Imaging <br><br> \n",
    "<div style=\"text-align: center\"> Intro -  Python Good Practice and Applications to Image Processing </font> <br><br><br>\n",
    "\n",
    "<font size=5  color=#003366>\n",
    "<div style=\"text-align: left\"> Professors :   \n",
    "<font size=4  color=#003366>\n",
    "<div style=\"text-align: left\"> Prof. G. Kerckhofs  \n",
    "<div style=\"text-align: left\"> Prof. J. Lee <br>\n",
    "<div style=\"text-align: left\"> Prof. B. Macq <br>\n",
    "<div style=\"text-align: left\"> Prof. F. Peeters\n",
    "<font size=5  color=#003366>\n",
    "    \n",
    "<br> <br>\n",
    "<div style=\"text-align: left\"> Teaching assistants : \n",
    "<font size=4  color=#003366>\n",
    "<div style=\"text-align: left\"> Damien Dasnoy-Sumell (damien.dasnoy@uclouvain.be)<br> \n",
    "<div style=\"text-align: left\"> Estelle Loÿen (estelle.loyen@uclouvain.be)\n",
    "<font size=5  color=#003366>\n",
    "<div style=\"text-align: right\"> 2021-2022 </div>\n",
    "<br><br>\n",
    "</font>"
   ]
  },
  {
   "cell_type": "markdown",
   "metadata": {},
   "source": [
    "<div style=\"text-align: justify\">The objective of this first session is double. On the one hand, excercises 1 and 2 have for purpose to give you some advice to write efficient python code. Even though you already used Python, we strongly promote you to do these excercices. On the other hand, exercise 3 contains traditional image processing applications. <br> <br>\n",
    "\n",
    "\n",
    "<font size=6 color=#009999> 1. Conditional Indexing </font> <br> <br>\n",
    "\n",
    "<font size=5 color=#009999> 1.1 Context  </font>\n",
    "\n",
    "It is possible to retrieve to specific elements of a list or a numpy arrays by using simple indices. For example, \n",
    "\n",
    "   - <samp>array[5]</samp> selects the 6th element of the array;\n",
    "   - <samp>array[0:2]</samp> selects the first 3;\n",
    "   - <samp>array[-1]</samp> selects the last.\n",
    "   \n",
    "In this excercice, we will explore an other indexing method that is much more powerful! <br><br>\n",
    "\n",
    "<font size=5 color=#009999> 1.2 Fancy indexing on a vector  </font>\n",
    "\n",
    "First, a boolean array can be created by applying a condition over all elements of an array, e.g. <samp>bool_array  = array > 0</samp> will create a boolean array of the original array size in which an index is <samp>True</samp> if the value in <samp>array</samp> is greater than zero. This boolean array can then be used to index values of an array depending of the boolean at this index is <samp>True</samp> or not (ex: <samp>array2\\[bool_array\\]</samp>). <br>\n",
    "<ol>\n",
    "   <li> Generate a numpy array (<samp>randomVec</samp>) of size 100 with random integer values between -20 and 20;\n",
    "   <li> Generate a numpy array (<samp>booleanVec</samp>) of size 100 within which <samp>booleanVec[i]</samp> is <samp>True</samp> only if <samp>randomVec[i]</samp> is greater than 0 <font color=#cc3300> without using any for loop! </font>; \n",
    "   <li> Use <samp>booleanVec</samp> to compute the mean of the strictly positive values in <samp>randomVec</samp> <font color=#cc3300> again without using any for loop! </font>;  \n",
    "   <li>Now compute the mean of the strictly positive even values.\n",
    "</ol>"
   ]
  },
  {
   "cell_type": "code",
   "execution_count": 1,
   "metadata": {
    "collapsed": true
   },
   "outputs": [],
   "source": [
    "import numpy as np \n"
   ]
  },
  {
   "cell_type": "markdown",
   "metadata": {},
   "source": [
    "<font size=5 color=#009999> 1.3 Fancy indexing on an array and execution time comparison </font>\n",
    "\n",
    "Perform again the previous steps with an intial random numpy array of size 5000x5000 with random integer values between -20 and 20. Compare execution times of the point 4 with an implementation which uses for loops."
   ]
  },
  {
   "cell_type": "code",
   "execution_count": 2,
   "metadata": {
    "collapsed": true
   },
   "outputs": [],
   "source": [
    "import time\n"
   ]
  },
  {
   "cell_type": "markdown",
   "metadata": {},
   "source": [
    "<font size=6 color=#009999> 2. Variable Mutability </font> <br> <br>\n",
    "\n",
    "<font size=5 color=#009999> 2.1 Context </font>\n",
    "\n",
    "Everything in Python is an object. And what every newcomer to Python should quickly learn is that all objects in Python can be either mutable or immutable. <br>\n",
    "Objects of built-in types like list, set or dict are mutable (the object can be changed after it is created); Objects of built-in types like int, float, bool, str or tuple are immutable (the object can't be changed). <br> \n",
    "\n",
    "This property of python variables will be crucial when they are given as argument to a function. In python, arguments are \"passed by reference\" instead of \"passed by value\". It means that the pointer to the variable is passed to the function and not a copy of the variable. Any change that is performed inside a function will afect the value of the variable in the whole script! <br>\n",
    "Believe us, if you do not pay attention to that, you will hate your code for returning strange results ;)<br><br>\n",
    "\n",
    "<font size=5 color=#009999> 2.2 Add and average function </font>\n",
    "\n",
    "<div style=\"text-align: justify\">We provide you the <samp>add_and_average</samp> function which adds a given increment value to every item in a sequence and then computes the mean of it. Apply this function on a list and a numpy array and see if the list/array changes after this call. If it is the case, change the function to solve the problem (copy library is a good choice). "
   ]
  },
  {
   "cell_type": "code",
   "execution_count": 1,
   "metadata": {},
   "outputs": [],
   "source": [
    "import copy \n",
    "\n",
    "def add_and_average(sequence, increment=0): \n",
    "    nb_items = 0\n",
    "    for item in sequence: \n",
    "        sequence[nb_items] += increment\n",
    "        nb_items    += 1 \n",
    "    return sum(sequence)/nb_items\n"
   ]
  },
  {
   "cell_type": "markdown",
   "metadata": {},
   "source": [
    "<font size=6 color=#009999> 3. Basic image operations and image visualization </font> <br>\n",
    "\n",
    "We will use 2D numpy arrays to store and manipulate images. We shall start by a general overview of some basic operations on images.\n",
    "\n",
    "In these exercises, the objective is to implement **by yourself** basic algorithms. You should then use only the numpy (and eventually math) library for your image processing codes. "
   ]
  },
  {
   "cell_type": "markdown",
   "metadata": {},
   "source": [
    "<font size=5 color=#009999> 3.1. Exercise 1 - Import an image </font>\n",
    "\n",
    "Open the falcon.jpg image using the skimage library. \n",
    "- Print the shape of the image\n",
    "- If it is an RGB image, change it to a 1 channel (greyscale image) and display it with different colormaps using the matplotlib library."
   ]
  },
  {
   "cell_type": "code",
   "execution_count": 4,
   "metadata": {
    "collapsed": true
   },
   "outputs": [],
   "source": [
    "from skimage.io import imread\n",
    "from skimage.color import rgb2grey\n",
    "import matplotlib.pyplot as plt\n",
    "\n"
   ]
  },
  {
   "cell_type": "markdown",
   "metadata": {},
   "source": [
    "<font size=5 color=#009999> 3.2. Exercise 2 - Flip an image </font>\n",
    "\n",
    "Use the greyscale image of the falcon and flip it horizontally and vertically. This can be easily done with the \"::-1\" operator. For example, if we have \n",
    "$$ list = [1,2,3,4]$$\n",
    "then \n",
    "$$ list[::-1] ~~\\text{is}~~ [4,3,2,1]$$"
   ]
  },
  {
   "cell_type": "code",
   "execution_count": null,
   "metadata": {
    "collapsed": true
   },
   "outputs": [],
   "source": []
  },
  {
   "cell_type": "markdown",
   "metadata": {},
   "source": [
    "<font size=5 color=#009999> *3.3. Exercise 3 - Crop an image* </font>\n",
    "\n",
    "Now, take your previous grayscale channel image and crop it, i.e. cut a part of the image to reframe it.\n",
    "Let the origin be the coordinate of upper-left corner and end the coordinate of the bottom-right corner in a 2-dimensional space. The pixel at coordinate $(x, y)$ in the new image is equal to the pixel located at coordinate $(x + origin.x, y + origin.y)$ in the old image.\n",
    "- For this exercise, crop the image between 50 and 400 in the x axis and between 150 and 700 in the y axis. \n",
    "- In an image is the horizontal/vertical axis corresponding to the x/y coordinate?"
   ]
  },
  {
   "cell_type": "code",
   "execution_count": 5,
   "metadata": {
    "collapsed": true
   },
   "outputs": [],
   "source": [
    "import numpy as np \n"
   ]
  },
  {
   "cell_type": "markdown",
   "metadata": {
    "collapsed": true
   },
   "source": [
    "<font size=5 color=#009999> 3.4. Exercise 4 - Scale an image </font>\n",
    "\n",
    "In this exercise, we will scale the falcon image. It can be a scale down or up. There are several methods available to interpolate the pixels. We will use the simplest possible algorithm: Nearest Neighbor. <br>\n",
    "\n",
    "To compute the rescaled image, we need the ratio for both horizontal and vertical axes: \n",
    "$$x_{ratio} ~=~ oldImg_x ~/~ newImg_x ~~~\\text{and}~~~ y_{ratio} ~=~ oldImg_y ~/~ newImg_y$$\n",
    "The pixel at coordinate $(x, y)$ in the new image is equal to the pixel that is located at coordinate $(\\text{floor}(x * x_{ratio}), \\text{floor}(y * y_{ratio}))$\n",
    "\n",
    "- Scale the image in the 200x200 size. You should use numpy library and an additional library with the floor function. Which one do you choose?"
   ]
  },
  {
   "cell_type": "code",
   "execution_count": 6,
   "metadata": {
    "collapsed": true
   },
   "outputs": [],
   "source": [
    "from math import floor\n"
   ]
  },
  {
   "cell_type": "markdown",
   "metadata": {},
   "source": [
    "<font size=5 color=#009999> 3.5. Exercise 5 - Change the luminosity </font>\n",
    "\n",
    "We can change the luminosity of an image by adding a constant value to each of the three channels (if this is a RGB image) or only the single channel for a grayscale image. \n",
    "- Increase the luminosity of the falcon by adding a constant value which is equal to 3 times the mean pixel value of the image. Can you implement it in one line of code ?"
   ]
  },
  {
   "cell_type": "code",
   "execution_count": null,
   "metadata": {
    "collapsed": true
   },
   "outputs": [],
   "source": []
  },
  {
   "cell_type": "markdown",
   "metadata": {},
   "source": [
    "\n",
    "\n"
   ]
  },
  {
   "cell_type": "markdown",
   "metadata": {},
   "source": [
    "<font size=5 color=#009999> 3.6. Exercise 6 - Linear Filtering </font>\n",
    "\n",
    "With little doubt the linear filter is one of the most used and simple filter in image processing. It calculates a weighted summation of all pixel values in a small neighborhood (small compared to the image size). It does so for all shifted neighborhoods in an image and all weighted sums thus form a new image. In signal processing this would be called a moving (weighted) average filter.\n",
    "\n",
    "Let F be the discrete function with all samples of the original image and let W be the weight function, the result image G then is called the filtering of the image by the kernel W:\n",
    "$$ G(i,j) = \\sum_{k=-\\infty}^{+\\infty}\\, \\sum_{l=-\\infty}^{+\\infty} F(i+k, j+l)\\,W(k,l)$$\n",
    "\n",
    "In practice we have to deal with the fact that the image is defined only on a finite domain. Then the indices (i+l,j+l) can point outside the image (see the border problem) and we have to decide what value to use for F(i+k,j+l).\n",
    "\n",
    "In practice the weight function has non zero values only in small neighborhood of the origin. Assume that W(k,l) is non zero only in the neighborhood for k=−K,..,+K and l=−L,..,+L.\n",
    "\n",
    "- Implement a function called linear_filter which takes in argument an image F and a filter G and returns a filtered image. Test it with the falcon as F and np.ones((5,5))/25 as W. "
   ]
  },
  {
   "cell_type": "code",
   "execution_count": null,
   "metadata": {
    "collapsed": true
   },
   "outputs": [],
   "source": []
  }
 ],
 "metadata": {
  "kernelspec": {
   "display_name": "Python 3",
   "language": "python",
   "name": "python3"
  },
  "language_info": {
   "codemirror_mode": {
    "name": "ipython",
    "version": 3
   },
   "file_extension": ".py",
   "mimetype": "text/x-python",
   "name": "python",
   "nbconvert_exporter": "python",
   "pygments_lexer": "ipython3",
   "version": "3.8.8"
  }
 },
 "nbformat": 4,
 "nbformat_minor": 2
}
