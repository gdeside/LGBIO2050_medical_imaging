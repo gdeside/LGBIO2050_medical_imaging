{
 "cells": [
  {
   "cell_type": "markdown",
   "metadata": {},
   "source": [
    "<font size=6  color=#003366> <div style=\"text-align: center\"> [LGBIO2050] - Medical Imaging <br><br> \n",
    "<div style=\"text-align: center\"> MR Simulation and Region Growing  </font> <br><br><br>\n",
    "\n",
    "<font size=5  color=#003366>\n",
    "<div style=\"text-align: left\"> Professors :   \n",
    "<font size=4  color=#003366>\n",
    "<div style=\"text-align: left\"> Prof. G. Kerckhofs  \n",
    "<div style=\"text-align: left\"> Prof. J. Lee <br>\n",
    "<div style=\"text-align: left\"> Prof. B. Macq <br>\n",
    "<div style=\"text-align: left\"> Prof. F. Peeters\n",
    "<font size=5  color=#003366>\n",
    "    \n",
    "<br> <br>\n",
    "<div style=\"text-align: left\"> Teaching assistants : \n",
    "<font size=4  color=#003366>\n",
    "<div style=\"text-align: left\"> Damien Dasnoy-Sumell (damien.dasnoy@uclouvain.be)<br> \n",
    "<div style=\"text-align: left\">Estelle Loÿen (estelle.loyen@uclouvain.be)\n",
    "<font size=5  color=#003366>\n",
    "<div style=\"text-align: right\"> 2021-2022 </div>\n",
    "<br><br>\n",
    "</font>"
   ]
  },
  {
   "cell_type": "markdown",
   "metadata": {},
   "source": [
    "<font size=5 color=#009999> **1. Guidelines and Deliverables** </font> <br> <br>\n",
    "   - This assignment is due on **November 25th**.\n",
    "   - Copying code or answers from other groups (or from the internet) is strictly forbidden. Each source of inspiration must be clearly indicated.\n",
    "   - The jupyter notebook containing the code and **detailed answers** to the questions must be delivered in an\n",
    "archive (.zip folder) on Moodle. The answers have to be written in English.<br> <br>\n",
    "\n",
    "<font size=5 color=#009999> **2. Context and objectives** </font> <br> <br>\n",
    "\n",
    "The purpose of this challenge is to simulate an MRI scanner acquisition, and then to segment a lesion in the brain using a pair of MRI images, one in proton density contrast and one in T1 weighted contrast. The T1 image comes directly from the scanner and as you know, MRI scanner acquire data in the frequency space, so you will need to reconstruct the image using the frequency data. Once you have both images, you will segment the lesion on both using the region growing method and compute the intersection in order to get a better contour of the lesion. \n",
    "\n",
    "![FIGURE 1](imgs/ProtonDensity.png \"Proton density image\")\n",
    "<br>\n",
    "<center>Figure 1: Proton density image.</center>"
   ]
  },
  {
   "cell_type": "markdown",
   "metadata": {},
   "source": [
    "<font size=5 color=#009999> **3. MR Simulation** </font> <br>\n",
    "To understand exactly how magnetic resonance imaging works, we ask you to simulate the behavior of a MR scanner and to recreate an image based on your simulated signal. In order to do this, you will have to complete the following tasks:\n",
    "\n",
    "Examine and understand the equations of the behavior of MR imaging (section 4.2 of the course notes).\n",
    "In particular, look at the following equation:\n",
    " \n",
    "\\begin{equation}\n",
    "S(k_x,k_y) = \\int\\int\\rho(x,y)e^{-i2\\pi(k_xx+k_yy)}dxdy\\qquad(1)\n",
    "\\end{equation}\n",
    "\n",
    "<div class=\"alert alert-info\">\n",
    "<b>QUESTION 1</b>  <br>\n",
    "First, load the 2 image data and plot them. Then, implement a script simulating the equations of the behavior of the MR scanner for a spin echo pulse sequence. In such sequences, $Gy = m∆Gy$ with $m ∈ \\mathbb{Z}$. Knowing that the FOV (W) is of 256 mm in $x$ and $y$ and that the pixel resolution is of 1 mm, choose the parameters of the MR equipment $(γ, Gx,∆Gy, ∆t, Ty$ --> see hints here under) to be consistent with equations [4.41] and [4.42] of the notes. Using equation (1), you can now compute the matrix $S(k_x,k_y)$ taking the proton density image as $ρ(x, y)$ to simulate a real patient in an MRI scanner. Since you have all discrete values, the integration can actually be computed as a sum for all $x$ and $y$ values. What do $k_x$ and $k_y$ correspond to?\n",
    "<br><br>\n",
    "Hints: \n",
    "- Gradient amplitude are of the order of 10mT/m (for Gy and Gx) \n",
    "- Ty --> order of milliseconds \n",
    "- dt --> order of microseconds\n",
    "</div>"
   ]
  },
  {
   "cell_type": "code",
   "execution_count": null,
   "metadata": {},
   "outputs": [],
   "source": [
    "## Load the 2 image data and plot them \n",
    "\n",
    "import numpy as np\n",
    "from skimage.io import imread\n",
    "from skimage.transform import resize\n",
    "from scipy.io import loadmat\n",
    "import matplotlib.pyplot as plt\n",
    "\n",
    "t1ImageFreq = loadmat('imgs/T1_raw.mat')['S']\n",
    "protonDensityImage = imread('imgs/ProtonDensity.png').astype(np.float64)\n",
    "\n"
   ]
  },
  {
   "cell_type": "code",
   "execution_count": null,
   "metadata": {},
   "outputs": [],
   "source": [
    "## Compute the S matrix using MR scanner parameters\n",
    "\n",
    "def sim_mr(image):\n",
    "    \n",
    "    S = ?\n",
    "    return S\n",
    "\n",
    "S = sim_mr(?)\n"
   ]
  },
  {
   "cell_type": "code",
   "execution_count": null,
   "metadata": {},
   "outputs": [],
   "source": [
    "## Show results\n",
    "\n"
   ]
  },
  {
   "cell_type": "markdown",
   "metadata": {},
   "source": [
    "<div class=\"alert alert-info\">\n",
    "<b>QUESTION 2</b>  <br>\n",
    "How is equation (1) related to a Fourier transform? By computing the magnitude (abs) of the inverse fast Fourier transform (ifft2) of your simulated signal S, show that you can recover the original image. Apply the same ifft2 function on the T1 raw data to reconstruct the T1 image.\n",
    "</div>\n"
   ]
  },
  {
   "cell_type": "code",
   "execution_count": null,
   "metadata": {},
   "outputs": [],
   "source": [
    "## get back T1 image from MRI data\n",
    "\n"
   ]
  },
  {
   "cell_type": "markdown",
   "metadata": {},
   "source": [
    "\n"
   ]
  },
  {
   "cell_type": "markdown",
   "metadata": {},
   "source": [
    "<div class=\"alert alert-info\">\n",
    "<b>QUESTION 3</b>  <br>\n",
    "What would you need to change in order to simulate gradient-echo pulse sequence or the echo-planar pulse sequence?\n",
    "</div>"
   ]
  },
  {
   "cell_type": "markdown",
   "metadata": {},
   "source": [
    "Answer: "
   ]
  },
  {
   "cell_type": "markdown",
   "metadata": {
    "collapsed": true
   },
   "source": [
    "<div class=\"alert alert-info\">\n",
    "<b>QUESTION 4</b>  <br>\n",
    "What is the difference between a proton density and a T1 or T2 weighted image?\n",
    "</div>"
   ]
  },
  {
   "cell_type": "markdown",
   "metadata": {},
   "source": [
    "Answer: "
   ]
  },
  {
   "cell_type": "markdown",
   "metadata": {},
   "source": [
    "<font size=5 color=#009999> **4. Region growing segmentation** </font> <br>\n",
    "\n",
    "The brain lesion can be seen on both images (left part of the brain, dark on the PD and bright on the T1). However, classification methods are not really suitable to segment it, as lesion intensities are similar in other parts of the brain. A simple segmentation method called ’region growing’ will be used in this case. The idea is to manually select a seed point (a pixel in the middle of the lesion) and to progressively expand it by taking the pixels which are similar to the segmented pixels according to some criterion. The criterion is usually based on the intensity of the considered pixel (if its intensity is in a small range around the mean intensity of the region, the pixel is added to the region). Additional criteria can be used (as gradient-based criteria, etc.), but these are optional for this challenge. Yet, uncertainties remain because of surrounding tissues of the same intensities. By segmenting the lesion on both images and by taking the intersection of both segmentation (because they were previously registered), you should be able to get a better estimation of the lesion contour.\n",
    "\n",
    "![FIGURE 1](imgs/RegionGrowing.png \"Image to segment\")\n",
    "<br>\n",
    "Figure 2: Left: PD + segmentation of the lesion. Middle: T1 + segmentation of the lesion. Right: intersection of both segmentations.\n",
    "<br><br>\n",
    "\n",
    "<div class=\"alert alert-info\">\n",
    "<b>QUESTION 5</b>  <br>\n",
    "Implement a region growing method. You can use the sample picker cell here under to manually select the seeds. Remark: when using the region growing, pay attention not to evaluate a pixel more than one time, otherwise the algorithm will take too much time (for instance, you could store a map checked of 0 (not checked) and 1 (already checked) of the size of the image). An easy way to implement the growing is to use a variable-length vector (typicaly a list in python) containing all pixels that are to be checked. Each time that a pixel is added to the region, add the neighbors of this pixel to the variable-length vector so that these will be checked later. When the vector is empty, the algorithm stops.\n",
    "</div>"
   ]
  },
  {
   "cell_type": "code",
   "execution_count": null,
   "metadata": {},
   "outputs": [],
   "source": [
    "##Region growing method in pseudo code --> will not execute\n",
    "\n",
    "seed_pixel = ginput\n",
    "regionImage(seed_pixel) = 1\n",
    "checkedImage(seed_pixel) = 1\n",
    "\n",
    "vector = neighbours_not_checked(seed_pixel)\n",
    "checkedImage(neighbours_not_checked(seed_pixel)) = 1  \n",
    "             \n",
    "while length(vector)>0:\n",
    "   pixel = vector(0)\n",
    "   if(criterion(pixel)):\n",
    "      region(pixel) = 1\n",
    "      vector += neighbors_not_checked(pixel)\n",
    "      checkedImage(neighbors_not_checked(pixel)) = 1\n",
    "   vector = vector(1:end)\n",
    "             \n",
    "where neighbours_not_checked(pixelPosition) check the checkedImage \n",
    "around the pixelPosition to get the uncheck pixels in the neighbourhood\n"
   ]
  },
  {
   "cell_type": "code",
   "execution_count": 1,
   "metadata": {},
   "outputs": [
    {
     "ename": "NameError",
     "evalue": "name 'protonDensityImage' is not defined",
     "output_type": "error",
     "traceback": [
      "\u001b[0;31m---------------------------------------------------------------------------\u001b[0m",
      "\u001b[0;31mNameError\u001b[0m                                 Traceback (most recent call last)",
      "\u001b[0;32m<ipython-input-1-6d9f6090fdc7>\u001b[0m in \u001b[0;36m<module>\u001b[0;34m\u001b[0m\n\u001b[1;32m     12\u001b[0m \u001b[0;31m## ------------------------------------------------------\u001b[0m\u001b[0;34m\u001b[0m\u001b[0;34m\u001b[0m\u001b[0;34m\u001b[0m\u001b[0m\n\u001b[1;32m     13\u001b[0m \u001b[0;34m\u001b[0m\u001b[0m\n\u001b[0;32m---> 14\u001b[0;31m \u001b[0mimageList\u001b[0m \u001b[0;34m=\u001b[0m \u001b[0;34m[\u001b[0m\u001b[0mprotonDensityImage\u001b[0m\u001b[0;34m,\u001b[0m \u001b[0mt1Image\u001b[0m\u001b[0;34m]\u001b[0m\u001b[0;34m\u001b[0m\u001b[0;34m\u001b[0m\u001b[0m\n\u001b[0m\u001b[1;32m     15\u001b[0m \u001b[0mcurrentImageIndex\u001b[0m \u001b[0;34m=\u001b[0m \u001b[0;34m[\u001b[0m\u001b[0;36m0\u001b[0m\u001b[0;34m]\u001b[0m\u001b[0;34m\u001b[0m\u001b[0;34m\u001b[0m\u001b[0m\n\u001b[1;32m     16\u001b[0m \u001b[0mseedPosList\u001b[0m \u001b[0;34m=\u001b[0m \u001b[0;34m[\u001b[0m\u001b[0;34m]\u001b[0m\u001b[0;34m\u001b[0m\u001b[0;34m\u001b[0m\u001b[0m\n",
      "\u001b[0;31mNameError\u001b[0m: name 'protonDensityImage' is not defined"
     ]
    }
   ],
   "source": [
    "## ------------- SEED PICKER CELL ------------------------------\n",
    "## If the figure doesn't show correctly, comment or uncomment one or several of the following '%matplotlib notebook'\n",
    "## or restart your kernel\n",
    "%matplotlib notebook\n",
    "%matplotlib notebook\n",
    "%matplotlib notebook\n",
    "\n",
    "import numpy as np\n",
    "import matplotlib.pyplot as plt\n",
    "from skimage.io import imread\n",
    "\n",
    "## ------------------------------------------------------\n",
    "\n",
    "imageList = [protonDensityImage, t1Image]\n",
    "currentImageIndex = [0]\n",
    "seedPosList = []\n",
    "\n",
    "def onclick(event):\n",
    "    \n",
    "    pos = [int(round(event.ydata)), int(round(event.xdata))]\n",
    "    seedPosList.append(pos)\n",
    "    currentImageIndex[0] = currentImageIndex[0]+1\n",
    "    ax.imshow(imageList[currentImageIndex[0]], cmap='gray')\n",
    "    \n",
    "    if currentImageIndex[0] == len(imageList)-1:\n",
    "        text.set_text('Last seed to select')\n",
    "        \n",
    "    display.clear_output(wait=True)\n",
    "    display.display(plt.gcf())\n",
    "        \n",
    "fig = plt.figure()\n",
    "ax = fig.add_subplot(111)\n",
    "ax.imshow(imageList[currentImageIndex[0]], cmap='gray')\n",
    "text=ax.text(0, 0, 'Select a seed', va=\"bottom\", fontsize=20)\n",
    "\n",
    "cid = fig.canvas.mpl_connect('button_press_event', onclick)"
   ]
  },
  {
   "cell_type": "code",
   "execution_count": 2,
   "metadata": {},
   "outputs": [
    {
     "ename": "NameError",
     "evalue": "name 'seedPosList' is not defined",
     "output_type": "error",
     "traceback": [
      "\u001b[0;31m---------------------------------------------------------------------------\u001b[0m",
      "\u001b[0;31mNameError\u001b[0m                                 Traceback (most recent call last)",
      "\u001b[0;32m<ipython-input-2-6ea9be4c98e6>\u001b[0m in \u001b[0;36m<module>\u001b[0;34m\u001b[0m\n\u001b[1;32m     14\u001b[0m     \u001b[0mplt\u001b[0m\u001b[0;34m.\u001b[0m\u001b[0mshow\u001b[0m\u001b[0;34m(\u001b[0m\u001b[0;34m)\u001b[0m\u001b[0;34m\u001b[0m\u001b[0;34m\u001b[0m\u001b[0m\n\u001b[1;32m     15\u001b[0m \u001b[0;34m\u001b[0m\u001b[0m\n\u001b[0;32m---> 16\u001b[0;31m \u001b[0mshowSeedsPos\u001b[0m\u001b[0;34m(\u001b[0m\u001b[0mseedPosList\u001b[0m\u001b[0;34m,\u001b[0m \u001b[0mimageList\u001b[0m\u001b[0;34m)\u001b[0m\u001b[0;34m\u001b[0m\u001b[0;34m\u001b[0m\u001b[0m\n\u001b[0m",
      "\u001b[0;31mNameError\u001b[0m: name 'seedPosList' is not defined"
     ]
    }
   ],
   "source": [
    "## To show the selected seeds positions\n",
    "%matplotlib inline\n",
    "\n",
    "def showSeedsPos(seedPositionsList, imagesList):\n",
    "    \n",
    "    plt.figure(figsize=(16,6))\n",
    "    \n",
    "    for imageIndex, image in enumerate(imagesList):\n",
    "        plt.subplot(1, len(imagesList), imageIndex+1)\n",
    "        plt.title('Seed : '+str(seedPositionsList[imageIndex][0])+' - '+str(seedPositionsList[imageIndex][1]))\n",
    "        plt.imshow(image, cmap='gray')\n",
    "        plt.plot(seedPositionsList[imageIndex][1], seedPositionsList[imageIndex][0], color = 'r', marker=\"+\",  markersize=10)\n",
    "        \n",
    "    plt.show()\n",
    "    \n",
    "showSeedsPos(seedPosList, imageList)"
   ]
  },
  {
   "cell_type": "code",
   "execution_count": null,
   "metadata": {},
   "outputs": [],
   "source": [
    "## Compute region growing \n"
   ]
  },
  {
   "cell_type": "code",
   "execution_count": null,
   "metadata": {},
   "outputs": [],
   "source": [
    "## Show Results\n"
   ]
  }
 ],
 "metadata": {
  "kernelspec": {
   "display_name": "Python 3",
   "language": "python",
   "name": "python3"
  },
  "language_info": {
   "codemirror_mode": {
    "name": "ipython",
    "version": 3
   },
   "file_extension": ".py",
   "mimetype": "text/x-python",
   "name": "python",
   "nbconvert_exporter": "python",
   "pygments_lexer": "ipython3",
   "version": "3.7.6"
  }
 },
 "nbformat": 4,
 "nbformat_minor": 2
}
