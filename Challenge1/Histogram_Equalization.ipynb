{
 "cells": [
  {
   "cell_type": "markdown",
   "id": "39908c9f",
   "metadata": {},
   "source": [
    "<font size=6  color=#003366> <div style=\"text-align: center\"> [LGBIO2050] - Medical Imaging <br><br> \n",
    "<div style=\"text-align: center\"> Challenge 1 - Histogram Equalization  </font> <br><br><br>\n",
    "\n",
    "<font size=5  color=#003366>\n",
    "<div style=\"text-align: left\"> Professors :   \n",
    "<font size=4  color=#003366>\n",
    "<div style=\"text-align: left\"> Prof. G. Kerckhofs  \n",
    "<div style=\"text-align: left\"> Prof. J. Lee <br>\n",
    "<div style=\"text-align: left\"> Prof. B. Macq <br>\n",
    "<div style=\"text-align: left\"> Prof. F. Peeters\n",
    "<font size=5  color=#003366>\n",
    "    \n",
    "<br> <br>\n",
    "<div style=\"text-align: left\"> Teaching assistants : \n",
    "<font size=4  color=#003366>\n",
    "<div style=\"text-align: left\"> Damien Dasnoy-Sumell (damien.dasnoy@uclouvain.be)<br> \n",
    "<div style=\"text-align: left\">Estelle Loÿen (estelle.loyen@uclouvain.be)\n",
    "<font size=5  color=#003366>\n",
    "<div style=\"text-align: right\"> 2021-2022 </div>\n",
    "<br><br>\n",
    "</font>"
   ]
  },
  {
   "cell_type": "markdown",
   "id": "bce276e9",
   "metadata": {},
   "source": [
    "<font size=6 color=#009999> 1. Guidelines and Deliverables </font> <br> \n",
    "   - This assignment is due on **The 14th October 2021**.\n",
    "   - Copying code or answers from other groups (or from the internet) is strictly forbidden. Each source of inspiration must be clearly indicated.\n",
    "   - The jupyter notebook containing the code and **detailed answers** to the questions must be delivered in an\n",
    "archive (.zip folder) on Moodle. The answers have to be written in English.<br> <br>"
   ]
  },
  {
   "cell_type": "markdown",
   "id": "76db9ccf",
   "metadata": {},
   "source": [
    "<font size=6 color=#009999> 2. Context and objective </font> <br> <br>\n",
    "<div style=\"text-align: justify\">It happens that images contain significant amount of details which are not visually perceptible. \n",
    "One reason for this may be that these images are poorly contrasted, i.e., they have a poor dynamic range in their \n",
    "pixel intensities. In such situation, applying a transformation to the image that will stretch its dynamic range is \n",
    "often desirable.<br>\n",
    "\n",
    "\n",
    "The normalised histogram of a gray level image is defined by the following equation:\n",
    " \n",
    "$$ p_{r}(k)=\\frac{n_{k}}{N}$$\n",
    "\n",
    "<div style=\"text-align: justify\">where $n_{k}$  is the the number of pixels with gray level $k$ and $k = 0, 1, ...L-1$ and $N$ is the total number of \n",
    "pixels. $p_{r}(k)$ can be interpreted as the probability of occurrence of gray level $k$. A plot of $n_{k}$ versus $k$ is known as a histogram.<br> \n",
    "    \n",
    "\n",
    "<div style=\"text-align: justify\">Gray level transformations applied to the histogram are among the simplest of image enhancement techniques. However, such transforms have a wide range of applications despite their simplicity.<br>\n",
    "\n",
    "\n",
    "Histogram Equalization (HE) is the transformation of the histogram denoted by $T$ and depicted by the Equation:\n",
    "\n",
    "$$ s(k) = T(r_{k})= \\sum_{j=0}^{k} p_{r}(r_{j}) = \\sum_{j=0}^{k}\\frac{n_{k}}{N} $$\n"
   ]
  },
  {
   "cell_type": "markdown",
   "id": "84a3082e",
   "metadata": {},
   "source": [
    "<font size=6 color=#009999> 3. Data importation </font> <br> <br>\n",
    "\n",
    "<div class=\"alert alert-info\">\n",
    "<b>QUESTION 1</b>  <br>\n",
    "In the following cell, import the images of the chest and knee radiographs (chest.png & knee.jpeg).  "
   ]
  },
  {
   "cell_type": "code",
   "execution_count": null,
   "id": "51a8dfa7",
   "metadata": {},
   "outputs": [],
   "source": []
  },
  {
   "cell_type": "markdown",
   "id": "0ba20352",
   "metadata": {},
   "source": [
    "<font size=6 color=#009999> 4. Histogram Equalization implementation </font> <br> <br>\n",
    "<div class=\"alert alert-info\">\n",
    "<b>QUESTION 2</b>  <br>\n",
    "Implement (by yourself!) the Histogram Equalization method. \n",
    "\n",
    "<div style=\"text-align: justify\">You are not allowed to use implemented version of the code (openCV, Skimage, PIL,...). Show your results on the chest and knee radiographs and comment. Show the effect on the image histogram and comment."
   ]
  },
  {
   "cell_type": "code",
   "execution_count": 15,
   "id": "27d17708",
   "metadata": {},
   "outputs": [],
   "source": [
    "# Histogram Equalization implementation\n",
    "def histeq():\n",
    "\n",
    "\n",
    "  return 0"
   ]
  },
  {
   "cell_type": "code",
   "execution_count": 16,
   "id": "bfdccb29",
   "metadata": {},
   "outputs": [],
   "source": [
    "# Results on the chest and knee radiographs"
   ]
  },
  {
   "cell_type": "markdown",
   "id": "494e6503",
   "metadata": {},
   "source": [
    "Comments on the results on the chest and knee radiographs:"
   ]
  },
  {
   "cell_type": "code",
   "execution_count": 17,
   "id": "3a8513d8",
   "metadata": {},
   "outputs": [],
   "source": [
    "# Results on the image histogram"
   ]
  },
  {
   "cell_type": "markdown",
   "id": "f7f70e28",
   "metadata": {},
   "source": [
    "Comments on the results on the image histogram:"
   ]
  },
  {
   "cell_type": "markdown",
   "id": "59d6c023",
   "metadata": {},
   "source": [
    "<div class=\"alert alert-info\">\n",
    "<b>QUESTION 3</b>  <br>\n",
    "What are the main drawbacks of Histogram Equalization? "
   ]
  },
  {
   "cell_type": "markdown",
   "id": "320a7093",
   "metadata": {},
   "source": [
    "Answer here... "
   ]
  },
  {
   "cell_type": "markdown",
   "id": "d83f6ca7",
   "metadata": {},
   "source": [
    "<div class=\"alert alert-info\">\n",
    "<b>QUESTION 4</b>  <br>\n",
    "What happens when you apply consecutively Histogram Equalization multiple times on the same image?"
   ]
  },
  {
   "cell_type": "code",
   "execution_count": 18,
   "id": "29459ca7",
   "metadata": {},
   "outputs": [],
   "source": [
    "# Show the results here"
   ]
  },
  {
   "cell_type": "markdown",
   "id": "0095c2cb",
   "metadata": {},
   "source": [
    "Comments on the multiple times application:"
   ]
  },
  {
   "cell_type": "code",
   "execution_count": null,
   "id": "391fb9f6",
   "metadata": {},
   "outputs": [],
   "source": []
  }
 ],
 "metadata": {
  "kernelspec": {
   "display_name": "Python 3",
   "language": "python",
   "name": "python3"
  },
  "language_info": {
   "codemirror_mode": {
    "name": "ipython",
    "version": 3
   },
   "file_extension": ".py",
   "mimetype": "text/x-python",
   "name": "python",
   "nbconvert_exporter": "python",
   "pygments_lexer": "ipython3",
   "version": "3.8.8"
  }
 },
 "nbformat": 4,
 "nbformat_minor": 5
}
